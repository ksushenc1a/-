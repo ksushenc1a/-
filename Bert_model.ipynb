{
  "nbformat": 4,
  "nbformat_minor": 0,
  "metadata": {
    "colab": {
      "provenance": [],
      "gpuType": "T4",
      "authorship_tag": "ABX9TyNi/5sWzV4l5FsuegPN/PkA",
      "include_colab_link": true
    },
    "kernelspec": {
      "name": "python3",
      "display_name": "Python 3"
    },
    "language_info": {
      "name": "python"
    },
    "accelerator": "GPU"
  },
  "cells": [
    {
      "cell_type": "markdown",
      "metadata": {
        "id": "view-in-github",
        "colab_type": "text"
      },
      "source": [
        "<a href=\"https://colab.research.google.com/github/ksushenc1a/-/blob/main/Bert_model.ipynb\" target=\"_parent\"><img src=\"https://colab.research.google.com/assets/colab-badge.svg\" alt=\"Open In Colab\"/></a>"
      ]
    },
    {
      "cell_type": "code",
      "execution_count": null,
      "metadata": {
        "id": "ZsQg_QjvFryC",
        "collapsed": true
      },
      "outputs": [],
      "source": [
        "# Импорт библиотек\n",
        "import pandas as pd\n",
        "from sklearn.model_selection import train_test_split\n",
        "from transformers import BertTokenizer, BertForSequenceClassification\n",
        "from transformers import Trainer, TrainingArguments\n",
        "import torch\n",
        "from torch.utils.data import DataLoader\n",
        "\n",
        "# Загрузка данных\n",
        "train_data = pd.read_csv('train.csv')  # Замените на актуальный путь\n",
        "test_data = pd.read_csv('test.csv')    # Замените на актуальный путь\n",
        "\n",
        "# Инициализация токенизатора\n",
        "tokenizer = BertTokenizer.from_pretrained('bert-base-uncased')\n",
        "\n",
        "# Токенизация данных с использованием параллельной обработки\n",
        "train_encodings = tokenizer(train_data['text'].tolist(), truncation=True, padding=True, return_tensors='pt')\n",
        "test_encodings = tokenizer(test_data['text'].tolist(), truncation=True, padding=True, return_tensors='pt')\n",
        "\n",
        "# Преобразование в тензоры\n",
        "train_labels = torch.tensor(train_data['is_joke'].tolist())\n",
        "test_labels = torch.tensor(test_data['is_joke'].tolist())\n",
        "\n",
        "# Создание Dataset\n",
        "class JokeDataset(torch.utils.data.Dataset):\n",
        "    def __init__(self, encodings, labels):\n",
        "        self.encodings = encodings\n",
        "        self.labels = labels\n",
        "\n",
        "    def __getitem__(self, idx):\n",
        "        item = {key: val[idx] for key, val in self.encodings.items()}  # Убрали лишнее преобразование в тензор\n",
        "        item['labels'] = self.labels[idx]\n",
        "        return item\n",
        "\n",
        "    def __len__(self):\n",
        "        return len(self.labels)\n",
        "\n",
        "train_dataset = JokeDataset(train_encodings, train_labels)\n",
        "test_dataset = JokeDataset(test_encodings, test_labels)\n",
        "\n",
        "# Инициализация модели\n",
        "model = BertForSequenceClassification.from_pretrained('bert-base-uncased', num_labels=2)\n",
        "\n",
        "# Настройка параметров обучения\n",
        "training_args = TrainingArguments(\n",
        "    output_dir='./results',\n",
        "    num_train_epochs=3,\n",
        "    per_device_train_batch_size=16,  # Увеличен размер батча\n",
        "    per_device_eval_batch_size=16,    # Увеличен размер батча\n",
        "    warmup_steps=500,\n",
        "    weight_decay=0.01,\n",
        "    logging_dir='./logs',\n",
        "    fp16=True,  # Включение смешанной точности\n",
        ")\n",
        "\n",
        "# Создание Trainer\n",
        "trainer = Trainer(\n",
        "    model=model,\n",
        "    args=training_args,\n",
        "    train_dataset=train_dataset,\n",
        "    eval_dataset=test_dataset,\n",
        ")\n",
        "\n",
        "# Обучение модели\n",
        "trainer.train()"
      ]
    },
    {
      "cell_type": "code",
      "source": [
        "# Предсказание на тестовых данных\n",
        "predictions = trainer.predict(test_dataset)\n",
        "predicted_labels = predictions.predictions.argmax(axis=1)\n",
        "\n",
        "# Создание таблицы с примерами, предсказаниями\n",
        "results_df = pd.DataFrame({\n",
        "    'text': test_data['text'],\n",
        "    'true_label': test_data['is_joke'],\n",
        "    'predicted_label': predicted_labels\n",
        "})\n",
        "\n",
        "# Сохранение результатов в CSV файл\n",
        "results_df.to_csv('predictions.csv', index=False)\n"
      ],
      "metadata": {
        "id": "XDb2WV-BXQEB"
      },
      "execution_count": null,
      "outputs": []
    },
    {
      "cell_type": "code",
      "source": [
        "# Оценка модели\n",
        "from sklearn.metrics import classification_report, accuracy_score\n",
        "print(classification_report(test_labels.numpy(), predicted_labels))\n"
      ],
      "metadata": {
        "id": "fPIwYKRsZJYj"
      },
      "execution_count": null,
      "outputs": []
    }
  ]
}